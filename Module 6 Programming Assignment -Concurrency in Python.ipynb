{
 "cells": [
  {
   "cell_type": "code",
   "execution_count": null,
   "id": "2e9926e8-2375-45a6-b7d1-70e72acd2413",
   "metadata": {},
   "outputs": [],
   "source": [
    "# Things To Do 13.1-13.3\n",
    "# 13.1 - Write today's date to \"today.txt\"\n",
    "# We'll grab today's date using \"datetime.date.today()', format it as ISO 8601 with \".iso format()\",\n",
    "# and write it file named \"today.txt\". "
   ]
  },
  {
   "cell_type": "code",
   "execution_count": 1,
   "id": "35f9c3b8-c307-4848-a520-6e6b31e71794",
   "metadata": {},
   "outputs": [
    {
     "name": "stdout",
     "output_type": "stream",
     "text": [
      "Today (ISO 8601): 2025-10-06\n",
      "File contents: 2025-10-06\n"
     ]
    }
   ],
   "source": [
    "from datetime import date\n",
    "\n",
    "# Get today's date in ISO 8601 format (YYYY-MM-DD)\n",
    "today_str = date.today().isoformat()\n",
    "print(\"Today (ISO 8601):\", today_str)\n",
    "\n",
    "# Write to today.txt\n",
    "with open(\"today.txt\", \"w\", encoding=\"utf-8\") as f:\n",
    "    f.write(today_str + \"\\n\")\n",
    "\n",
    "# Quick confirmation by reading back the file (optional)\n",
    "with open(\"today.txt\", \"r\", encoding=\"utf-8\") as f:\n",
    "    preview = f.read().strip()\n",
    "print(\"File contents:\", preview)"
   ]
  },
  {
   "cell_type": "code",
   "execution_count": null,
   "id": "08451a44-a6e3-42cf-a74b-8b21bc39b3a7",
   "metadata": {},
   "outputs": [],
   "source": [
    "# 13.2 — Read `today.txt` into `today_string`\n",
    "# We’ll read the file we just created and store its contents (stripped) in a variable called `today_string`."
   ]
  },
  {
   "cell_type": "code",
   "execution_count": 2,
   "id": "fdf30ecc-c7b7-4240-9f8c-88fb8f3c4649",
   "metadata": {},
   "outputs": [
    {
     "name": "stdout",
     "output_type": "stream",
     "text": [
      "today_string: 2025-10-06\n",
      "Type of today_string: <class 'str'>\n"
     ]
    }
   ],
   "source": [
    "# Read the file into a variable named today_string\n",
    "with open(\"today.txt\", \"r\", encoding=\"utf-8\") as f:\n",
    "    today_string = f.read().strip()\n",
    "\n",
    "print(\"today_string:\", today_string)\n",
    "print(\"Type of today_string:\", type(today_string))"
   ]
  },
  {
   "cell_type": "code",
   "execution_count": null,
   "id": "c6da9042-e4e1-492d-a55e-4fff8646b6ac",
   "metadata": {},
   "outputs": [],
   "source": [
    "# 13.3 — Parse `today_string` back into a date object\n",
    "#We’ll use `datetime.strptime` with the format `\"%Y-%m-%d\"` to parse the string and then convert to a `date`."
   ]
  },
  {
   "cell_type": "code",
   "execution_count": 3,
   "id": "dcf4778b-aae1-4eac-b503-219de378a2c2",
   "metadata": {},
   "outputs": [
    {
     "name": "stdout",
     "output_type": "stream",
     "text": [
      "Parsed datetime: 2025-10-06 00:00:00 | type: <class 'datetime.datetime'>\n",
      "Parsed date    : 2025-10-06 | type: <class 'datetime.date'>\n"
     ]
    }
   ],
   "source": [
    "from datetime import datetime\n",
    "\n",
    "# Parse the ISO string back into a datetime, then extract a date\n",
    "parsed_dt = datetime.strptime(today_string, \"%Y-%m-%d\")\n",
    "parsed_date = parsed_dt.date()\n",
    "\n",
    "print(\"Parsed datetime:\", parsed_dt, \"| type:\", type(parsed_dt))\n",
    "print(\"Parsed date    :\", parsed_date, \"| type:\", type(parsed_date))"
   ]
  },
  {
   "cell_type": "code",
   "execution_count": null,
   "id": "528338b7-be97-41f8-a572-faa594457fb2",
   "metadata": {},
   "outputs": [],
   "source": [
    "# Things To Do 15.1\n",
    "# Three processes with random delays\n",
    "# We’ll spawn three independent processes with `multiprocessing.Process`.  \n",
    "# Each child sleeps a random 0–1 seconds, then prints its PID and the current time.\n"
   ]
  }
 ],
 "metadata": {
  "kernelspec": {
   "display_name": "Python [conda env:base] *",
   "language": "python",
   "name": "conda-base-py"
  },
  "language_info": {
   "codemirror_mode": {
    "name": "ipython",
    "version": 3
   },
   "file_extension": ".py",
   "mimetype": "text/x-python",
   "name": "python",
   "nbconvert_exporter": "python",
   "pygments_lexer": "ipython3",
   "version": "3.13.5"
  }
 },
 "nbformat": 4,
 "nbformat_minor": 5
}
