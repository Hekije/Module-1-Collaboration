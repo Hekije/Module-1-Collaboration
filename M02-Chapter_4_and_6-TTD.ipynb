{
 "cells": [
  {
   "cell_type": "code",
   "execution_count": null,
   "id": "ca09b4cc-b8f4-43be-91c4-e867fd336b9f",
   "metadata": {},
   "outputs": [],
   "source": [
    "# 4.1 Number Guessing Game\n",
    "# Choose a number between 1 and 10 for \"secret\", and another for \"guess\".\n",
    "# The program prints:\n",
    "# -\"too low\" if \"guess < secret\"\n",
    "# -\"too high\" if \"guess > secret\" \n",
    "# -\"just right\" if \"guess == secret\""
   ]
  },
  {
   "cell_type": "code",
   "execution_count": null,
   "id": "d446742d-748d-4e59-a4a2-c654386b7c05",
   "metadata": {},
   "outputs": [],
   "source": [
    "secret = 7\n",
    "guess = 5\n",
    "\n",
    "if guess < secret:\n",
    "    print(\"too low\")\n",
    "elif guess > secret:\n",
    "    print(\"too high\")\n",
    "else:\n",
    "    print(\"just right\")\n",
    "\n",
    "          "
   ]
  },
  {
   "cell_type": "code",
   "execution_count": null,
   "id": "f54a8c10-ee2e-45b4-9628-60b4a05da30b",
   "metadata": {},
   "outputs": [],
   "source": [
    "# 4.2 Small and Green\n",
    "# Assign True/False to `small` and `green`.  \n",
    "# The program prints which fruit/vegetable matches:\n",
    "# - small + green → pea  \n",
    "# - small + not green → cherry  \n",
    "# - large + green → watermelon  \n",
    "# - large + not green → pumpkin  \n"
   ]
  },
  {
   "cell_type": "code",
   "execution_count": null,
   "id": "0f45a2c3-8154-45d6-a0d5-3b8c520373f1",
   "metadata": {},
   "outputs": [],
   "source": [
    "small = True\n",
    "green = False\n",
    "\n",
    "if small and green:\n",
    "    print(\"pea\")\n",
    "elif small and not green:\n",
    "    print(\"cherry\")\n",
    "elif not small and green:\n",
    "    print(\"watermelon\")\n",
    "else:\n",
    "    print(\"pumpkin\")\n"
   ]
  },
  {
   "cell_type": "code",
   "execution_count": null,
   "id": "8ee7e858-c6cc-48d9-bfbf-0e91d53b3bdd",
   "metadata": {},
   "outputs": [],
   "source": [
    "# 6.1\n",
    "# Use a for loop to print the values of the list `[3, 2, 1, 0]`.\n"
   ]
  },
  {
   "cell_type": "code",
   "execution_count": null,
   "id": "474aeb19-4308-4f76-9693-852c6ecfd6a0",
   "metadata": {},
   "outputs": [],
   "source": [
    "for value in [3, 2, 1, 0]:\n",
    "    print(value)\n"
   ]
  },
  {
   "cell_type": "code",
   "execution_count": null,
   "id": "5ff9da8c-d744-454c-b4e8-c27276d8b7f2",
   "metadata": {},
   "outputs": [],
   "source": [
    "# 6.2\n",
    "# Assign `guess_me = 7` and `number = 1`.  \n",
    "# Use a while loop:\n",
    "# - Print `'too low'` if `number < guess_me`.  \n",
    "# - Print `'found it!'` and exit if `number == guess_me`.  \n",
    "# - Print `'oops'` and exit if `number > guess_me`.  \n",
    "# Increment `number` at the end of each loop.  \n"
   ]
  },
  {
   "cell_type": "code",
   "execution_count": null,
   "id": "2d241181-1afe-4cf1-bd77-e43a061f9867",
   "metadata": {},
   "outputs": [],
   "source": [
    "guess_me = 7\n",
    "number = 1\n",
    "\n",
    "while True:\n",
    "    if number < guess_me:\n",
    "        print(\"too low\")\n",
    "    elif number == guess_me:\n",
    "        print(\"found it!\")\n",
    "        break\n",
    "    else:\n",
    "        print(\"oops\")\n",
    "        break\n",
    "    number += 1\n"
   ]
  },
  {
   "cell_type": "code",
   "execution_count": null,
   "id": "75890cc9-ce8f-40d9-8409-a09ef49d437d",
   "metadata": {},
   "outputs": [],
   "source": [
    "# 6.3\n",
    "# Assign `guess_me = 5`.  \n",
    "# Iterate `number` over `range(10)`:\n",
    "# - Print `'too low'` if `number < guess_me`.  \n",
    "# - Print `'found it!'` and break if equal.  \n",
    "# - Print `'oops'` and exit if greater.  \n"
   ]
  },
  {
   "cell_type": "code",
   "execution_count": null,
   "id": "752e8137-8e94-4222-bea0-6962a98601c9",
   "metadata": {},
   "outputs": [],
   "source": [
    "guess_me = 5\n",
    "\n",
    "for number in range(10):\n",
    "    if number < guess_me:\n",
    "        print(\"too low\")\n",
    "    elif number == guess_me:\n",
    "        print(\"found it!\")\n",
    "        break\n",
    "    else:\n",
    "        print(\"oops\")\n",
    "        break\n"
   ]
  }
 ],
 "metadata": {
  "kernelspec": {
   "display_name": "Python [conda env:base] *",
   "language": "python",
   "name": "conda-base-py"
  },
  "language_info": {
   "codemirror_mode": {
    "name": "ipython",
    "version": 3
   },
   "file_extension": ".py",
   "mimetype": "text/x-python",
   "name": "python",
   "nbconvert_exporter": "python",
   "pygments_lexer": "ipython3",
   "version": "3.13.5"
  }
 },
 "nbformat": 4,
 "nbformat_minor": 5
}
