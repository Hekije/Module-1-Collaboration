{
 "cells": [
  {
   "cell_type": "code",
   "execution_count": null,
   "id": "e23e7f07-c2d3-4903-b7fa-7ba5a7fb2567",
   "metadata": {},
   "outputs": [],
   "source": [
    "# 11.1 and 11.2\n",
    "# Creates a new file zoo.py containing the function hours() which prints \"Open 9-5 daily\""
   ]
  },
  {
   "cell_type": "code",
   "execution_count": 1,
   "id": "8838cd9d-4e56-4f62-8c1a-c222550adf2a",
   "metadata": {},
   "outputs": [
    {
     "name": "stdout",
     "output_type": "stream",
     "text": [
      "Writing zoo.py\n"
     ]
    }
   ],
   "source": [
    "%%writefile zoo.py\n",
    "def hours():\n",
    "    print('Open 9-5 daily')"
   ]
  },
  {
   "cell_type": "code",
   "execution_count": null,
   "id": "3281d79e-6f42-4277-8bd4-b17fc0f87855",
   "metadata": {},
   "outputs": [],
   "source": [
    "# Imports the zoo module normally and calls zoo.hours()"
   ]
  },
  {
   "cell_type": "code",
   "execution_count": 2,
   "id": "c6aa9f07-edf0-411a-be34-ebc1fd9b835d",
   "metadata": {},
   "outputs": [
    {
     "name": "stdout",
     "output_type": "stream",
     "text": [
      "Open 9-5 daily\n"
     ]
    }
   ],
   "source": [
    "import zoo\n",
    "zoo.hours()"
   ]
  },
  {
   "cell_type": "code",
   "execution_count": null,
   "id": "dc5a0677-0e99-4ecb-a83f-18c3ccec9b9e",
   "metadata": {},
   "outputs": [],
   "source": [
    "# Imports the zoo module with the alias menagerie and calls menagerie.hours()"
   ]
  },
  {
   "cell_type": "code",
   "execution_count": 3,
   "id": "3818ebdd-407e-4601-8b36-fc78e7ce0c83",
   "metadata": {},
   "outputs": [
    {
     "name": "stdout",
     "output_type": "stream",
     "text": [
      "Open 9-5 daily\n"
     ]
    }
   ],
   "source": [
    "import zoo as menagerie\n",
    "menagerie.hours()"
   ]
  },
  {
   "cell_type": "code",
   "execution_count": null,
   "id": "4e20f50e-a898-4efe-8939-516733fb64d0",
   "metadata": {},
   "outputs": [],
   "source": [
    "# 16.8 \n",
    "# Use SQLAlchemy to connect to the `books.db` database and print the titles from the `book` table in alphabetical order."
   ]
  },
  {
   "cell_type": "code",
   "execution_count": 4,
   "id": "1f6bbb74-8f2d-45e0-9e7d-cd77c96dcb57",
   "metadata": {},
   "outputs": [
    {
     "name": "stdout",
     "output_type": "stream",
     "text": [
      "Database 'books.db' and table 'book' created successfully.\n",
      "Created CSV file: books2.csv\n",
      "Data from 'books2.csv' inserted into 'book' table successfully.\n",
      "\n",
      "Verifying data in 'book' table:\n",
      "Titles in alphabetical order:\n",
      "- Perdido Street Station\n",
      "- Small Gods\n",
      "- The Spellman Files\n",
      "- The Weirdstone of Brisingamen\n",
      "- Thud!\n",
      "\n",
      "All columns in order of publication (year):\n",
      "- 1960: The Weirdstone of Brisingamen — Alan Garner\n",
      "- 1992: Small Gods — Terry Pratchett\n",
      "- 2000: Perdido Street Station — China Miéville\n",
      "- 2005: Thud! — Terry Pratchett\n",
      "- 2007: The Spellman Files — Lisa Lutz\n",
      "\n",
      "Database connection closed.\n"
     ]
    }
   ],
   "source": [
    "import sqlite3\n",
    "import csv\n",
    "import os # Import os module to check for file existence and remove if needed\n",
    "\n",
    "# --- 1. Database Creation  ---\n",
    "# Define the database file name\n",
    "DB_FILE = 'books.db'\n",
    "CSV_FILE = 'books2.csv'\n",
    "\n",
    "# Remove existing database file to start fresh, if it exists\n",
    "if os.path.exists(DB_FILE):\n",
    "    os.remove(DB_FILE)\n",
    "    print(f\"Removed existing database file: {DB_FILE}\")\n",
    "\n",
    "# Connect to the SQLite database. If books.db doesn't exist, it will be created.\n",
    "conn = sqlite3.connect(DB_FILE)\n",
    "curs = conn.cursor()\n",
    "\n",
    "# Execute the SQL command to create the 'book' table with specified fields.\n",
    "# The fields are: title (text), author (text), and year (integer).\n",
    "curs.execute('''\n",
    "    CREATE TABLE book (\n",
    "        title TEXT,\n",
    "        author TEXT,\n",
    "        year INTEGER\n",
    "    )\n",
    "''')\n",
    "print(f\"Database '{DB_FILE}' and table 'book' created successfully.\")\n",
    "\n",
    "# --- 2. Create the books2.csv file (from Things to Do 16.3) ---\n",
    "# Data for books2.csv as specified in \"things to do 16.3\" [3]\n",
    "books2_csv_content = '''title,author,year\n",
    "The Weirdstone of Brisingamen,Alan Garner,1960\n",
    "Perdido Street Station,China Miéville,2000\n",
    "Thud!,Terry Pratchett,2005\n",
    "The Spellman Files,Lisa Lutz,2007\n",
    "Small Gods,Terry Pratchett,1992\n",
    "'''\n",
    "\n",
    "# Write the content to books2.csv\n",
    "with open(CSV_FILE, 'wt', encoding='utf-8') as outfile:\n",
    "    outfile.write(books2_csv_content)\n",
    "print(f\"Created CSV file: {CSV_FILE}\")\n",
    "\n",
    "# --- 3. Populate the 'book' table from books2.csv (as in Things to Do 16.5) ---\n",
    "# SQL INSERT statement with placeholders for title, author, and year [2]\n",
    "ins_str = 'INSERT INTO book (title, author, year) VALUES (?, ?, ?)'\n",
    "\n",
    "# Open books2.csv and read its data using DictReader [1, 4]\n",
    "with open(CSV_FILE, 'rt', encoding='utf-8') as infile:\n",
    "    # DictReader automatically uses the first row as field names [5]\n",
    "    books = csv.DictReader(infile)\n",
    "    for book_row in books:\n",
    "        # Execute the INSERT statement for each row, extracting values by column name [4]\n",
    "        curs.execute(ins_str, (book_row['title'], book_row['author'], int(book_row['year'])))\n",
    "\n",
    "# Commit the changes to the database to save the inserted data [2, 4]\n",
    "conn.commit()\n",
    "print(f\"Data from '{CSV_FILE}' inserted into 'book' table successfully.\")\n",
    "\n",
    "# --- Optional: Verify the data insertion (as in Things to Do 16.6 and 16.7) ---\n",
    "print(\"\\nVerifying data in 'book' table:\")\n",
    "print(\"Titles in alphabetical order:\")\n",
    "for (title,) in curs.execute('SELECT title FROM book ORDER BY title ASC'):\n",
    "    print(f\"- {title}\")\n",
    "\n",
    "print(\"\\nAll columns in order of publication (year):\")\n",
    "for title, author, year in curs.execute('SELECT title, author, year FROM book ORDER BY year ASC'):\n",
    "    print(f\"- {year}: {title} — {author}\")\n",
    "\n",
    "# Close the cursor and the database connection\n",
    "curs.close()\n",
    "conn.close()\n",
    "print(\"\\nDatabase connection closed.\")"
   ]
  },
  {
   "cell_type": "code",
   "execution_count": 5,
   "id": "827336ee-8bd6-4684-bc73-5123b27d7156",
   "metadata": {},
   "outputs": [
    {
     "ename": "AttributeError",
     "evalue": "'Engine' object has no attribute 'execute'",
     "output_type": "error",
     "traceback": [
      "\u001b[1;31m---------------------------------------------------------------------------\u001b[0m",
      "\u001b[1;31mAttributeError\u001b[0m                            Traceback (most recent call last)",
      "Cell \u001b[1;32mIn[5], line 8\u001b[0m\n\u001b[0;32m      5\u001b[0m engine \u001b[38;5;241m=\u001b[39m sa\u001b[38;5;241m.\u001b[39mcreate_engine(\u001b[38;5;124m'\u001b[39m\u001b[38;5;124msqlite:///books.db\u001b[39m\u001b[38;5;124m'\u001b[39m)\n\u001b[0;32m      7\u001b[0m \u001b[38;5;66;03m# Execute SQL query to get titles in alphabetical order\u001b[39;00m\n\u001b[1;32m----> 8\u001b[0m result \u001b[38;5;241m=\u001b[39m engine\u001b[38;5;241m.\u001b[39mexecute(\u001b[38;5;124m'\u001b[39m\u001b[38;5;124mSELECT title FROM book ORDER BY title ASC\u001b[39m\u001b[38;5;124m'\u001b[39m)\n\u001b[0;32m     10\u001b[0m \u001b[38;5;28mprint\u001b[39m(\u001b[38;5;124m\"\u001b[39m\u001b[38;5;124mBook titles in alphabetical order:\u001b[39m\u001b[38;5;124m\"\u001b[39m)\n\u001b[0;32m     11\u001b[0m \u001b[38;5;28;01mfor\u001b[39;00m (title,) \u001b[38;5;129;01min\u001b[39;00m result:\n",
      "\u001b[1;31mAttributeError\u001b[0m: 'Engine' object has no attribute 'execute'"
     ]
    }
   ],
   "source": [
    "# Query with SQLAlchemy\n",
    "import sqlalchemy as sa\n",
    "\n",
    "# Create an engine to connect to the SQLite database\n",
    "engine = sa.create_engine('sqlite:///books.db')\n",
    "\n",
    "# Execute SQL query to get titles in alphabetical order\n",
    "result = engine.execute('SELECT title FROM book ORDER BY title ASC')\n",
    "\n",
    "print(\"Book titles in alphabetical order:\")\n",
    "for (title,) in result:\n",
    "    print(\"-\", title)\n"
   ]
  },
  {
   "cell_type": "code",
   "execution_count": null,
   "id": "7351157c-0bea-43d7-81a6-3d4f85ead4c4",
   "metadata": {},
   "outputs": [],
   "source": []
  }
 ],
 "metadata": {
  "kernelspec": {
   "display_name": "Python [conda env:base] *",
   "language": "python",
   "name": "conda-base-py"
  },
  "language_info": {
   "codemirror_mode": {
    "name": "ipython",
    "version": 3
   },
   "file_extension": ".py",
   "mimetype": "text/x-python",
   "name": "python",
   "nbconvert_exporter": "python",
   "pygments_lexer": "ipython3",
   "version": "3.13.5"
  }
 },
 "nbformat": 4,
 "nbformat_minor": 5
}
