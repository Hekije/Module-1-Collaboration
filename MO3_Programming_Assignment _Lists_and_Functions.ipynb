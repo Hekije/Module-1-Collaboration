{
 "cells": [
  {
   "cell_type": "code",
   "execution_count": null,
   "id": "00913562-6f7b-4d0a-9e53-4048a92d4bf5",
   "metadata": {},
   "outputs": [],
   "source": [
    "# 7.4 - Making a list called \"things\" with these strings as elements: \n",
    "# \"mozarella, \"cinderella\", \"salmonella\"."
   ]
  },
  {
   "cell_type": "code",
   "execution_count": null,
   "id": "11d5568d-cb6f-4022-bf84-65d466344ae2",
   "metadata": {},
   "outputs": [],
   "source": [
    "things = [\"mozzarella\", \"cinderella\", \"salmonella\"]\n",
    "print(things)"
   ]
  },
  {
   "cell_type": "code",
   "execution_count": null,
   "id": "a6c226f8-1f4f-4548-b154-8e7209c23bb8",
   "metadata": {},
   "outputs": [],
   "source": [
    "# 7.5 - Capitalizing the element in \"things\" that refers to a person and then print the list."
   ]
  },
  {
   "cell_type": "code",
   "execution_count": null,
   "id": "0ac9c752-7bd9-4722-8276-1d87d753c6a9",
   "metadata": {},
   "outputs": [],
   "source": [
    "things[1] = things[1].capitalize()\n",
    "print(things)"
   ]
  },
  {
   "cell_type": "code",
   "execution_count": null,
   "id": "8c83dd0a-def3-43fd-9bbb-c2fa73fc4cbf",
   "metadata": {},
   "outputs": [],
   "source": [
    "# 7.6 - Making the cheesy element of  \"things\" all uppercase and then print the list"
   ]
  },
  {
   "cell_type": "code",
   "execution_count": null,
   "id": "a4e97f6a-c7f4-46a9-ab51-0aa8f6540c43",
   "metadata": {},
   "outputs": [],
   "source": [
    "things[0] = things[0].upper()\n",
    "print(things)"
   ]
  },
  {
   "cell_type": "code",
   "execution_count": null,
   "id": "227cbe8d-4f1a-4889-9159-c561a83e0e59",
   "metadata": {},
   "outputs": [],
   "source": [
    "# 7.7 - Delete the disease element from \"things\", collect your Nobel Prize, and print the list."
   ]
  },
  {
   "cell_type": "code",
   "execution_count": null,
   "id": "7e6b819c-e629-45d4-becd-b5d01b735810",
   "metadata": {},
   "outputs": [],
   "source": [
    "del things[2]\n",
    "print(things)"
   ]
  },
  {
   "cell_type": "code",
   "execution_count": null,
   "id": "ab242c12-20b2-48ed-a9b5-9cfc1e69705b",
   "metadata": {},
   "outputs": [],
   "source": [
    "# 9.1 - Defining a function 'good()' that returns '[\"Harry, \"Ron\", \"Hermione\"]'."
   ]
  },
  {
   "cell_type": "code",
   "execution_count": null,
   "id": "4b10a2ae-1079-40f9-98b4-3d331af8b5dd",
   "metadata": {},
   "outputs": [],
   "source": [
    "def good():\n",
    "    return ['Harry', 'Ron', 'Hermione']"
   ]
  },
  {
   "cell_type": "code",
   "execution_count": null,
   "id": "a248c4de-5a79-445c-ad05-84a06960e183",
   "metadata": {},
   "outputs": [],
   "source": [
    "# 9.2 - Defining a generator 'get_odds()' that yields odd numbers from 'range(10)'.\n",
    "# Then use a 'for' loop to find and print the **third** value returned. "
   ]
  },
  {
   "cell_type": "code",
   "execution_count": null,
   "id": "97357951-1bef-4ee1-8967-2528a950a800",
   "metadata": {},
   "outputs": [],
   "source": [
    "def get_odds():\n",
    "    for n in range(10):\n",
    "        if n % 2 == 1:\n",
    "            yield n\n",
    "\n",
    "count = 0\n",
    "for value in get_odds():\n",
    "    count += 1\n",
    "    if count == 3:\n",
    "        print(value) \n",
    "        break"
   ]
  }
 ],
 "metadata": {
  "kernelspec": {
   "display_name": "Python [conda env:base] *",
   "language": "python",
   "name": "conda-base-py"
  },
  "language_info": {
   "codemirror_mode": {
    "name": "ipython",
    "version": 3
   },
   "file_extension": ".py",
   "mimetype": "text/x-python",
   "name": "python",
   "nbconvert_exporter": "python",
   "pygments_lexer": "ipython3",
   "version": "3.13.5"
  }
 },
 "nbformat": 4,
 "nbformat_minor": 5
}
