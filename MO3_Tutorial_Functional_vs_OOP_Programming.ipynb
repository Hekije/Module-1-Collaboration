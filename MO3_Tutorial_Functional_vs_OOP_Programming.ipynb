{
 "cells": [
  {
   "cell_type": "code",
   "execution_count": null,
   "id": "a944984e-f0d5-45ba-8307-b8814b03bf66",
   "metadata": {},
   "outputs": [],
   "source": [
    "# MO3 Tutorial - Sorting 0s,1s, and 2s\n",
    "# This function sorts an array consisting only of 0s, 1s, and 2s\n",
    "# It does so in a single traversal and without using extra space"
   ]
  },
  {
   "cell_type": "code",
   "execution_count": null,
   "id": "e66b545b-3466-4dfc-a60d-31c00ef3169a",
   "metadata": {},
   "outputs": [],
   "source": [
    "class Solution:\n",
    "    def sort012(self, arr):\n",
    "\n",
    "        n = len(arr)\n",
    "        lo, mid, hi = 0, 0, n - 1\n",
    "\n",
    "        while mid <= hi:\n",
    "            if arr[mid] == 0:\n",
    "                arr[lo], arr[mid] = arr[mid], arr[lo]\n",
    "                lo += 1\n",
    "                mid += 1\n",
    "            elif arr[mid] == 1:\n",
    "                mid += 1\n",
    "            else:\n",
    "                arr[mid], arr[hi] = arr[hi], arr[mid]\n",
    "                hi -= 1\n",
    "        \n",
    "        return arr   \n"
   ]
  },
  {
   "cell_type": "code",
   "execution_count": null,
   "id": "f13a7afd-ee9d-40bb-879e-4549231d9e8c",
   "metadata": {},
   "outputs": [],
   "source": [
    "# MO3 Tutorial - Binary Search\n",
    "# This function performs binary search on a sorted array to find\n",
    "# the target value \"k\". If found, it returns the index of the\n",
    "# first ocurrence; otherwise, it returns -1."
   ]
  }
 ],
 "metadata": {
  "kernelspec": {
   "display_name": "Python [conda env:base] *",
   "language": "python",
   "name": "conda-base-py"
  },
  "language_info": {
   "codemirror_mode": {
    "name": "ipython",
    "version": 3
   },
   "file_extension": ".py",
   "mimetype": "text/x-python",
   "name": "python",
   "nbconvert_exporter": "python",
   "pygments_lexer": "ipython3",
   "version": "3.13.5"
  }
 },
 "nbformat": 4,
 "nbformat_minor": 5
}
