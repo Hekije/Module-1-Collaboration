{
 "cells": [
  {
   "cell_type": "code",
   "execution_count": 13,
   "id": "4d11977f-83c6-4842-b7a1-ee0b29382cec",
   "metadata": {
    "scrolled": true
   },
   "outputs": [],
   "source": [
    "## Chapter 3 — Things to Do (3.1–3.6)\n",
    "#This chapter introduced the atoms of Python: numbers, booleans, and variables.  \n",
    "#Below are my solutions.\n"
   ]
  },
  {
   "cell_type": "code",
   "execution_count": 14,
   "id": "c468efa4-3c82-4c80-8a9b-588f1075e382",
   "metadata": {},
   "outputs": [],
   "source": [
    "## 3.1 Seconds in an hour\n",
    "#There are 60 seconds in a minute and 60 minutes in an hour.\n"
   ]
  },
  {
   "cell_type": "code",
   "execution_count": 15,
   "id": "7fffb9b3-ca21-4960-841d-6a6b2a65cd36",
   "metadata": {},
   "outputs": [
    {
     "data": {
      "text/plain": [
       "3600"
      ]
     },
     "execution_count": 15,
     "metadata": {},
     "output_type": "execute_result"
    }
   ],
   "source": [
    "60 * 60"
   ]
  },
  {
   "cell_type": "code",
   "execution_count": 16,
   "id": "ba9dbe61-c81b-4fae-9808-492feb46f37d",
   "metadata": {},
   "outputs": [],
   "source": [
    "## 3.2 Assign result to a variable\n",
    "#Store the result from 3.1 in `seconds_per_hour`.\n"
   ]
  },
  {
   "cell_type": "code",
   "execution_count": 17,
   "id": "7d82d7ce-f008-4db7-a99f-fac50ca4773a",
   "metadata": {},
   "outputs": [
    {
     "data": {
      "text/plain": [
       "3600"
      ]
     },
     "execution_count": 17,
     "metadata": {},
     "output_type": "execute_result"
    }
   ],
   "source": [
    "seconds_per_hour = 60 * 60\n",
    "seconds_per_hour"
   ]
  },
  {
   "cell_type": "code",
   "execution_count": 18,
   "id": "f9b50462-d359-4bc2-8831-7663433a94e5",
   "metadata": {},
   "outputs": [],
   "source": [
    "## 3.3 Seconds in a day\n",
    "#Use `seconds_per_hour` × 24 hours.\n"
   ]
  },
  {
   "cell_type": "code",
   "execution_count": 19,
   "id": "a1f46460-6b9d-4cd4-a87c-f2e49d0275d3",
   "metadata": {},
   "outputs": [
    {
     "data": {
      "text/plain": [
       "86400"
      ]
     },
     "execution_count": 19,
     "metadata": {},
     "output_type": "execute_result"
    }
   ],
   "source": [
    "seconds_per_hour * 24"
   ]
  },
  {
   "cell_type": "code",
   "execution_count": 20,
   "id": "5cfec734-6ff3-4a3d-929b-cb3ce06149da",
   "metadata": {},
   "outputs": [],
   "source": [
    "## 3.4 Save result in `seconds_per_day`\n"
   ]
  },
  {
   "cell_type": "code",
   "execution_count": 21,
   "id": "3dd53af1-e86e-4663-a60b-5030a105cd8e",
   "metadata": {},
   "outputs": [
    {
     "data": {
      "text/plain": [
       "86400"
      ]
     },
     "execution_count": 21,
     "metadata": {},
     "output_type": "execute_result"
    }
   ],
   "source": [
    "seconds_per_day = seconds_per_hour * 24\n",
    "seconds_per_day\n"
   ]
  },
  {
   "cell_type": "code",
   "execution_count": 22,
   "id": "c4c5fb53-ecc4-4c78-b6e3-4ebba62cccbf",
   "metadata": {},
   "outputs": [],
   "source": [
    "## 3.5 Floating-point division\n",
    "#Divide seconds in a day by seconds in an hour using `/`.\n"
   ]
  },
  {
   "cell_type": "code",
   "execution_count": 23,
   "id": "b6c985e5-50a7-4593-bb1e-87217a25daaa",
   "metadata": {},
   "outputs": [],
   "source": [
    "## 3.6 Integer division\n",
    "#Divide using `//` instead of `/`.\n",
    "# Answer: Yes - both calculations equal 24. The only difference is that `/` gives a float (`24.0`) while `//` gives an integer (`24`)."
   ]
  },
  {
   "cell_type": "code",
   "execution_count": 24,
   "id": "4fadaa9d-9da5-4076-acd5-a7bd82644b0e",
   "metadata": {},
   "outputs": [
    {
     "data": {
      "text/plain": [
       "24"
      ]
     },
     "execution_count": 24,
     "metadata": {},
     "output_type": "execute_result"
    }
   ],
   "source": [
    "seconds_per_day // seconds_per_hour\n"
   ]
  }
 ],
 "metadata": {
  "kernelspec": {
   "display_name": "Python [conda env:base] *",
   "language": "python",
   "name": "conda-base-py"
  },
  "language_info": {
   "codemirror_mode": {
    "name": "ipython",
    "version": 3
   },
   "file_extension": ".py",
   "mimetype": "text/x-python",
   "name": "python",
   "nbconvert_exporter": "python",
   "pygments_lexer": "ipython3",
   "version": "3.13.5"
  }
 },
 "nbformat": 4,
 "nbformat_minor": 5
}
